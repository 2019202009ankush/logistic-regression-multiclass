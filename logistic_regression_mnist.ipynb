{
 "cells": [
  {
   "cell_type": "markdown",
   "metadata": {},
   "source": [
    "#  Logistic Regression with a Neural Network mindset\n",
    "\n",
    "After completed the first course of Deep Learning Specialization on Coursera taught by Andrew Ng, I am implementing the algorithms on my own to retain the material taught.\n",
    "\n",
    "In this first notebook, the logistic regression algorithm is applied in the MNIST dataset which can be found at http://yann.lecun.com/exdb/mnist/ or at https://www.kaggle.com/c/digit-recognizer/data. \n",
    "\n",
    "Since it is a multclass dataset I have had to do some research since multiclass problem wasn't covered in the first course."
   ]
  },
  {
   "cell_type": "code",
   "execution_count": 16,
   "metadata": {},
   "outputs": [],
   "source": [
    "import numpy as np\n",
    "import matplotlib.pyplot as plt\n",
    "from load_data import loadData\n",
    "%matplotlib inline\n"
   ]
  },
  {
   "cell_type": "code",
   "execution_count": 17,
   "metadata": {},
   "outputs": [
    {
     "name": "stdout",
     "output_type": "stream",
     "text": [
      "[9, 4, 4, 6, 9, 1, 5, 9, 6]\n"
     ]
    },
    {
     "data": {
      "image/png": "[encoded data removed]",
      "text/plain": [
       "<Figure size 432x288 with 9 Axes>"
      ]
     },
     "metadata": {
      "needs_background": "light"
     },
     "output_type": "display_data"
    }
   ],
   "source": [
    "trainImages, trainLabels =  loadData(\"data/train-images-idx3-ubyte\", \"data/train-labels-idx1-ubyte\")\n",
    "testImages, testLabels =  loadData(\"data/t10k-images-idx3-ubyte\", \"data/t10k-labels-idx1-ubyte\")\n",
    "\n",
    "# Sanity check\n",
    "assert trainImages.shape == (60000, 28, 28)\n",
    "assert trainLabels.shape == (60000, )\n",
    "\n",
    "assert testImages.shape == (10000, 28, 28)\n",
    "assert testLabels.shape == (10000, )\n",
    "\n",
    "labels = []\n",
    "# plot 9 a random image with matplotlib and its labels for sanity check\n",
    "for i in range(1, 10):\n",
    "    index = np.random.choice(59999)\n",
    "    labels.append(trainLabels[index])\n",
    "    plt.subplot(330 + i)\n",
    "    plt.imshow(trainImages[index], cmap='Greys')\n",
    "print(labels)\n",
    "plt.show()\n"
   ]
  },
  {
   "cell_type": "code",
   "execution_count": 18,
   "metadata": {},
   "outputs": [
    {
     "name": "stdout",
     "output_type": "stream",
     "text": [
      "Number of Trainning examples m_train:  60000\n",
      "Number of test examples m_train:  10000\n",
      "Height and Widht of each image:  28\n",
      "X - trainImages shape:  (60000, 28, 28)\n",
      "Y - trainLabels shape:  (60000,)\n",
      "X - testImages shape:  (10000, 28, 28)\n",
      "Y - testLabels shape:  (10000,)\n"
     ]
    }
   ],
   "source": [
    "# Get familiarized with the number of samples and shapes of the matrices \n",
    "m_train = len(trainImages)\n",
    "m_test = len(testImages)\n",
    "num_px = np.shape(trainImages[0])[0]\n",
    "\n",
    "print(\"Number of Trainning examples m_train: \", m_train)\n",
    "print(\"Number of test examples m_train: \", m_test)\n",
    "print(\"Height and Widht of each image: \", num_px)\n",
    "print(\"X - trainImages shape: \", np.shape(trainImages))\n",
    "print(\"Y - trainLabels shape: \", np.shape(trainLabels))\n",
    "print(\"X - testImages shape: \", np.shape(testImages))\n",
    "print(\"Y - testLabels shape: \", np.shape(testLabels))\n"
   ]
  },
  {
   "cell_type": "code",
   "execution_count": 19,
   "metadata": {},
   "outputs": [
    {
     "name": "stdout",
     "output_type": "stream",
     "text": [
      "trainImagesFlatten shape:  (784, 60000)\n",
      "trainLabelsFlatten shape:  (1, 60000)\n",
      "testImagesFlatten shape:  (784, 10000)\n",
      "testLabelsFlatten shape:  (1, 10000)\n"
     ]
    }
   ],
   "source": [
    "# Reshape the training and test examples\n",
    "trainImagesFlatten = trainImages.reshape(m_train, -1).T\n",
    "trainLabelsFlatten = trainLabels.reshape(1, trainLabels.shape[0])\n",
    "testImagesFlatten = testImages.reshape(m_test, -1).T\n",
    "testLabelsFlatten = testLabels.reshape(1, testLabels.shape[0])\n",
    "\n",
    "print (\"trainImagesFlatten shape: \", trainImagesFlatten.shape)\n",
    "print (\"trainLabelsFlatten shape: \", trainLabelsFlatten.shape)\n",
    "print (\"testImagesFlatten shape: \", testImagesFlatten.shape)\n",
    "print (\"testLabelsFlatten shape: \", testLabelsFlatten.shape)\n",
    "\n",
    "# Standardize the dataset \n",
    "trainImages = trainImagesFlatten / 255\n",
    "testImages = testImagesFlatten / 255\n",
    "trainLabels = trainLabelsFlatten\n",
    "testLabels = testLabelsFlatten"
   ]
  },
  {
   "cell_type": "code",
   "execution_count": 20,
   "metadata": {},
   "outputs": [
    {
     "name": "stdout",
     "output_type": "stream",
     "text": [
      "(10, 60000)\n"
     ]
    }
   ],
   "source": [
    "def oneHotEncoding(v, numOfClasses):\n",
    "    \"\"\"\n",
    "    This function hot encode a vector of (1, n) dimension\n",
    "    \n",
    "    Argument:\n",
    "    v -- a numpy array to be one-hot encoded\n",
    "    numOfClasses -- an integer with the number of classes\n",
    "    Returns:\n",
    "    vOneHot -- one hot encoded vector\n",
    "    \"\"\"\n",
    "    vOneHot = np.eye(numOfClasses)[np.array(v).reshape(-1)]\n",
    "    return vOneHot.reshape(list(v.shape)+[numOfClasses])\n",
    "\n",
    "trainLabels = oneHotEncoding(trainLabels, 10)\n",
    "trainLabels = trainLabels.reshape(trainLabels.shape[2], trainLabels.shape[1])\n",
    "\n",
    "testLabels = oneHotEncoding(testLabels, 10)\n",
    "testLabels = testLabels.reshape(testLabels.shape[2], testLabels.shape[1])\n",
    "\n",
    "print(trainLabels.shape)"
   ]
  },
  {
   "cell_type": "code",
   "execution_count": 21,
   "metadata": {},
   "outputs": [],
   "source": [
    "def initializeWeightsAndBias(dim):\n",
    "    \"\"\"\n",
    "    This function creates a vector of random values of shape (dim, 1) for w and initializes b to 0.\n",
    "    \n",
    "    Argument:\n",
    "    dim -- size of the w vector - number of parameters\n",
    "    \n",
    "    Returns:\n",
    "    w -- initialized vector of shape (dim, 1)\n",
    "    b -- initialized scalar (corresponds to the bias)\n",
    "    \"\"\"\n",
    "    np.random.seed(None)\n",
    "    w = np.random.randn(dim, 10) * 0.01\n",
    "    b = 0 #float(np.squeeze(np.random.randn(1)))\n",
    "    \n",
    "    assert(w.shape == (dim, 10))\n",
    "    assert(isinstance(b, float) or isinstance(b, int))\n",
    "    \n",
    "    return w, b"
   ]
  },
  {
   "cell_type": "code",
   "execution_count": 22,
   "metadata": {},
   "outputs": [],
   "source": [
    "def softmax(z):\n",
    "    \"\"\"\n",
    "    Compute the softmax of z\n",
    "\n",
    "    Arguments:\n",
    "    z -- A scalar or numpy array of any size.\n",
    "\n",
    "    Return:\n",
    "    s -- softmax(z)\n",
    "    \"\"\"\n",
    "    expToZ = np.exp(z - np.max(z))\n",
    "    return np.divide(expToZ, np.sum(expToZ))"
   ]
  },
  {
   "cell_type": "code",
   "execution_count": 10,
   "metadata": {},
   "outputs": [],
   "source": [
    "# Sanity check\n",
    "W, b = initializeWeightsAndBias(trainImages.shape[0])\n",
    "assert softmax(np.dot(W.T, trainImages) + b).shape == (W.T.shape[0], trainImages.shape[1]) "
   ]
  },
  {
   "cell_type": "code",
   "execution_count": 62,
   "metadata": {},
   "outputs": [],
   "source": [
    "def crossEntropy(A, Y):\n",
    "    \"\"\"\n",
    "    This loss formula is used to compute loss of multiclass data\n",
    "    A -- Computed softmax of the linear transformation on wigth vector and train images vector plus the bias\n",
    "    of size (1, number of examples). \n",
    "    Y -- true \"label\" vector (containing 0, 1, 2 ... 10 ) of size (1, number of examples)\n",
    "    \n",
    "    Return:\n",
    "    Loss -- Cross entropy loss -- - sum of hadamard\n",
    "    \"\"\"\n",
    "    #loss = -np.divide(np.sum(np.multiply(Y, np.log(A, where=(A!=0)))), A.shape[1])\n",
    "    #loss = -np.divide(np.sum(np.multiply(Y, np.log(A))), A.shape[1])\n",
    "    #return loss\n",
    "    return np.divide(np.sum(np.multiply(Y, np.log(A)) + np.multiply(1-Y,  np.log(1-A))), -60000) \n",
    "    "
   ]
  },
  {
   "cell_type": "code",
   "execution_count": 24,
   "metadata": {},
   "outputs": [
    {
     "ename": "NameError",
     "evalue": "name 'W' is not defined",
     "output_type": "error",
     "traceback": [
      "\u001b[0;31m---------------------------------------------------------------------------\u001b[0m",
      "\u001b[0;31mNameError\u001b[0m                                 Traceback (most recent call last)",
      "\u001b[0;32m<ipython-input-24-e987952e0c8d>\u001b[0m in \u001b[0;36m<module>\u001b[0;34m\u001b[0m\n\u001b[1;32m      1\u001b[0m \u001b[0;34m\u001b[0m\u001b[0m\n\u001b[0;32m----> 2\u001b[0;31m \u001b[0mprint\u001b[0m\u001b[0;34m(\u001b[0m\u001b[0mW\u001b[0m\u001b[0;34m.\u001b[0m\u001b[0mshape\u001b[0m\u001b[0;34m)\u001b[0m\u001b[0;34m\u001b[0m\u001b[0;34m\u001b[0m\u001b[0m\n\u001b[0m\u001b[1;32m      3\u001b[0m \u001b[0mprint\u001b[0m\u001b[0;34m(\u001b[0m\u001b[0mtrainImages\u001b[0m\u001b[0;34m.\u001b[0m\u001b[0mshape\u001b[0m\u001b[0;34m)\u001b[0m\u001b[0;34m\u001b[0m\u001b[0;34m\u001b[0m\u001b[0m\n\u001b[1;32m      4\u001b[0m \u001b[0mprint\u001b[0m\u001b[0;34m(\u001b[0m\u001b[0mtrainLabels\u001b[0m\u001b[0;34m.\u001b[0m\u001b[0mshape\u001b[0m\u001b[0;34m)\u001b[0m\u001b[0;34m\u001b[0m\u001b[0;34m\u001b[0m\u001b[0m\n\u001b[1;32m      5\u001b[0m \u001b[0;31m#W = np.zeros(shape=(784, 1))\u001b[0m\u001b[0;34m\u001b[0m\u001b[0;34m\u001b[0m\u001b[0;34m\u001b[0m\u001b[0m\n",
      "\u001b[0;31mNameError\u001b[0m: name 'W' is not defined"
     ]
    }
   ],
   "source": [
    "\n",
    "print(W.shape)\n",
    "print(trainImages.shape)\n",
    "print(trainLabels.shape)\n",
    "#W = np.zeros(shape=(784, 1))\n",
    "print(len(trainImages[trainImages != 0]))\n",
    "#A = softmax(np.dot(W.T, trainImages) + b)\n",
    "trainLabels.shape\n",
    "print(crossEntropy(A, trainLabels))\n",
    "print(A.dtype)\n",
    "Y = trainLabels\n",
    "cost = np.divide(np.sum(np.multiply(Y, np.log(A)) + np.multiply(1-Y,  np.log(1-A))), -60000) \n",
    "print(cost)\n",
    "#print(\"\\n\")\n",
    "#print(cross_entropy(A, trainLabels))\n",
    "\n",
    "#print(trainLabels.shape[1])\n",
    "\n"
   ]
  },
  {
   "cell_type": "code",
   "execution_count": 91,
   "metadata": {},
   "outputs": [],
   "source": [
    "def forwardAndBackwardPropagation(w, b, X, Y):\n",
    "    \"\"\"\n",
    "    Arguments:\n",
    "    w -- weights, a numpy array of size (num_px * num_px,  1)\n",
    "    b -- bias, a scalar\n",
    "    X -- training images of size (num_px * num_px, number of examples)\n",
    "    Y -- true \"label\" vector (containing 0, 1, 2 ... 10 ) of size (1, number of examples)\n",
    "\n",
    "    Return:\n",
    "    cost -- negative log-likelihood cost for logistic regression\n",
    "    dw -- gradient of the loss with respect to w, thus same shape as w\n",
    "    db -- gradient of the loss with respect to b, thus same shape as b\n",
    "    \"\"\"\n",
    "    # FORWARD PROPAGATION (FROM X TO COST)\n",
    "    m = X.shape[1]\n",
    "    A = softmax(np.dot(w.T, X) + b)\n",
    "    cost = crossEntropy(A, Y)\n",
    "    \n",
    "    # BACKWARD PROPAGATION (TO FIND GRAD)\n",
    "    dz = A - Y\n",
    "    dw = (1/m)*dz.dot(X.T)\n",
    "    db = (1/m)*np.sum(dz)\n",
    "    dw = dw.T\n",
    "\n",
    "    cost = np.squeeze(cost)\n",
    "    #assert(cost.shape == ())\n",
    "    \n",
    "    grads = {\"dw\": dw,\n",
    "             \"db\": db}\n",
    "    \n",
    "    return grads, cost\n",
    "    \n",
    "    \n",
    "    "
   ]
  },
  {
   "cell_type": "code",
   "execution_count": 89,
   "metadata": {},
   "outputs": [],
   "source": [
    "def optimize(w, b, X, Y, num_iterations, learning_rate, print_cost = False):\n",
    "    \"\"\"\n",
    "    This function optimizes w and b by running a gradient descent algorithm\n",
    "    \n",
    "    Arguments:\n",
    "    w -- weights, a numpy array of size (num_px * num_px, 1)\n",
    "    b -- bias, a scalar\n",
    "    X -- data of shape (num_px * num_px, number of examples)\n",
    "    Y -- true \"label\" vector of shape (1, number of examples)\n",
    "    num_iterations -- number of iterations of the optimization loop\n",
    "    learning_rate -- learning rate of the gradient descent update rule\n",
    "    print_cost -- True to print the loss every 100 steps\n",
    "    \n",
    "    Returns:\n",
    "    params -- dictionary containing the weights w and bias b\n",
    "    grads -- dictionary containing the gradients of the weights and bias with respect to the cost function\n",
    "    costs -- list of all the costs computed during the optimization, this will be used to plot the learning curve.\n",
    "    \n",
    "    \"\"\"\n",
    "    \n",
    "    costs = []\n",
    "    \n",
    "    for i in range(num_iterations):\n",
    "        \n",
    "        # Cost and gradient calculation (≈ 1-4 lines of code)\n",
    "        ### START CODE HERE ### \n",
    "        grads, cost = forwardAndBackwardPropagation(w, b, X, Y)\n",
    "        ### END CODE HERE ###\n",
    "        \n",
    "        # Retrieve derivatives from grads\n",
    "        dw = grads[\"dw\"]\n",
    "        db = grads[\"db\"]\n",
    "        \n",
    "        # update rule (≈ 2 lines of code)\n",
    "        ### START CODE HERE ###\n",
    "        w = w - learning_rate * dw\n",
    "        b = b - learning_rate * db\n",
    "        ### END CODE HERE ###\n",
    "        \n",
    "        # Record the costs\n",
    "        if i % 100 == 0:\n",
    "            costs.append(cost)\n",
    "        \n",
    "        # Print the cost every 100 training iterations\n",
    "        if print_cost and i % 100 == 0:\n",
    "            print (\"Cost after iteration %i: %f\" %(i, cost))\n",
    "        print (\"Cost after iteration %i: %f\" %(i, cost))\n",
    "            \n",
    "    params = {\"w\": w,\n",
    "              \"b\": b}\n",
    "    \n",
    "    grads = {\"dw\": dw,\n",
    "             \"db\": db}\n",
    "    \n",
    "    return params, grads, costs"
   ]
  },
  {
   "cell_type": "code",
   "execution_count": 73,
   "metadata": {},
   "outputs": [],
   "source": [
    "def predict(w, b, X):\n",
    "    '''\n",
    "    Predict whether the label is 0, 1, 2,3 ... 9 or 1 using learned logistic regression parameters (w, b)\n",
    "    \n",
    "    Arguments:\n",
    "    w -- weights, a numpy array of size (num_px * num_px, 1)\n",
    "    b -- bias, a scalar\n",
    "    X -- data of size (num_px * num_px, number of examples)\n",
    "    \n",
    "    Returns:\n",
    "    Y_prediction -- a numpy array (vector) containing all predictions (0,1,..9) for the examples in X\n",
    "    '''\n",
    "    \n",
    "    m = X.shape[1]\n",
    "    #Y_prediction = np.zeros((10,m))\n",
    "    #w = w.reshape(X.shape[0], 10)\n",
    "    A = softmax(np.dot(w.T, X) + b)\n",
    "\n",
    "    '''\n",
    "    for i in range(A.shape[1]):\n",
    "        # Convert probabilities A[0,i] to actual predictions p[0,i]\n",
    "        ### START CODE HERE ### (≈ 4 lines of code)\n",
    "        if A[0,i] <= .5:\n",
    "            Y_prediction[0, i] = 0\n",
    "        else:\n",
    "            Y_prediction[0, i] = 1\n",
    "        ### END CODE HERE ###\n",
    "    \n",
    "    assert(Y_prediction.shape == (1, m))\n",
    "    \n",
    "    return Y_prediction\n",
    "    '''\n",
    "    return np.argmax(A)"
   ]
  },
  {
   "cell_type": "code",
   "execution_count": 29,
   "metadata": {},
   "outputs": [],
   "source": [
    "def model(X_train, Y_train, X_test, Y_test, num_iterations = 2000, learning_rate = 0.5, print_cost = False):\n",
    "    \"\"\"\n",
    "       \n",
    "    Arguments:\n",
    "    X_train -- training set represented by a numpy array of shape (num_px * num_px * 3, m_train)\n",
    "    Y_train -- training labels represented by a numpy array (vector) of shape (1, m_train)\n",
    "    X_test -- test set represented by a numpy array of shape (num_px * num_px * 3, m_test)\n",
    "    Y_test -- test labels represented by a numpy array (vector) of shape (1, m_test)\n",
    "    num_iterations -- hyperparameter representing the number of iterations to optimize the parameters\n",
    "    learning_rate -- hyperparameter representing the learning rate used in the update rule of optimize()\n",
    "    print_cost -- Set to true to print the cost every 100 iterations\n",
    "    \n",
    "    Returns:\n",
    "    d -- dictionary containing information about the model.\n",
    "    \"\"\"\n",
    "   \n",
    "    w, b = initializeWeightsAndBias(X_train.shape[0])\n",
    "    \n",
    "    parameters, grads, costs = optimize(w, b, X_train, Y_train, num_iterations, learning_rate, print_cost)\n",
    "    \n",
    "    # Retrieve parameters w and b from dictionary \"parameters\"\n",
    "    w = parameters[\"w\"]\n",
    "    b = parameters[\"b\"]\n",
    "    \n",
    "    Y_prediction_test = predict(w, b, X_test)\n",
    "    Y_prediction_train = predict(w, b, X_train)\n",
    "\n",
    "    # Print train/test Errors\n",
    "    print(\"train accuracy: {} %\".format(100 - np.mean(np.abs(Y_prediction_train - Y_train)) * 100))\n",
    "    print(\"test accuracy: {} %\".format(100 - np.mean(np.abs(Y_prediction_test - Y_test)) * 100))\n",
    "\n",
    "    \n",
    "    d = {\"costs\": costs,\n",
    "         \"Y_prediction_test\": Y_prediction_test, \n",
    "         \"Y_prediction_train\" : Y_prediction_train, \n",
    "         \"w\" : w, \n",
    "         \"b\" : b,\n",
    "         \"learning_rate\" : learning_rate,\n",
    "         \"num_iterations\": num_iterations}\n",
    "    \n",
    "    return d"
   ]
  },
  {
   "cell_type": "code",
   "execution_count": 92,
   "metadata": {},
   "outputs": [
    {
     "name": "stdout",
     "output_type": "stream",
     "text": [
      "Cost after iteration 0: 13.307528\n",
      "Cost after iteration 0: 13.307528\n",
      "Cost after iteration 1: 13.314535\n",
      "Cost after iteration 2: 13.338658\n",
      "Cost after iteration 3: 13.380815\n",
      "Cost after iteration 4: 13.441968\n",
      "Cost after iteration 5: 13.523125\n",
      "Cost after iteration 6: 13.625347\n",
      "Cost after iteration 7: 13.749745\n",
      "Cost after iteration 8: 13.897485\n",
      "Cost after iteration 9: 14.069779\n",
      "train accuracy: -52135690.0 %\n",
      "test accuracy: -4785190.0 %\n"
     ]
    }
   ],
   "source": [
    "d = model(trainImages, trainLabels, testImages, testLabels, num_iterations = 10, learning_rate = 0.125, print_cost = True)\n"
   ]
  }
 ],
 "metadata": {
  "kernelspec": {
   "display_name": "Python 3",
   "language": "python",
   "name": "python3"
  },
  "language_info": {
   "codemirror_mode": {
    "name": "ipython",
    "version": 3
   },
   "file_extension": ".py",
   "mimetype": "text/x-python",
   "name": "python",
   "nbconvert_exporter": "python",
   "pygments_lexer": "ipython3",
   "version": "3.6.7"
  }
 },
 "nbformat": 4,
 "nbformat_minor": 2
}
