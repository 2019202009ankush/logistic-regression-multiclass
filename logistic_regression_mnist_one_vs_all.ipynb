{
 "cells": [
  {
   "cell_type": "markdown",
   "metadata": {},
   "source": [
    "#  Logistic Regression with a Neural Network mindset\n",
    "\n",
    "After completed the first course of Deep Learning Specialization on Coursera taught by Andrew Ng, I am implementing the algorithms on my own to retain the material taught.\n",
    "\n",
    "In this first notebook, the logistic regression algorithm is applied in the MNIST dataset which can be found at http://yann.lecun.com/exdb/mnist/ or at https://www.kaggle.com/c/digit-recognizer/data. \n",
    "\n",
    "Since it is a multclass dataset I have had to do some research since multiclass problem wasn't covered in the first course.\n",
    "\n",
    "However I've failed to implement it with softmax regression, so I decided to stick with the binary classification, by creating 10 weights, on for each of the classes."
   ]
  },
  {
   "cell_type": "code",
   "execution_count": 231,
   "metadata": {},
   "outputs": [],
   "source": [
    "import numpy as np\n",
    "import matplotlib.pyplot as plt\n",
    "from load_data import loadData\n",
    "%matplotlib inline\n"
   ]
  },
  {
   "cell_type": "code",
   "execution_count": 233,
   "metadata": {},
   "outputs": [
    {
     "name": "stdout",
     "output_type": "stream",
     "text": [
      "[7, 2, 3, 3, 8, 3, 7, 2, 7]\n"
     ]
    },
    {
     "data": {
      "image/png": "[encoded data removed]",
      "text/plain": [
       "<Figure size 432x288 with 9 Axes>"
      ]
     },
     "metadata": {
      "needs_background": "light"
     },
     "output_type": "display_data"
    }
   ],
   "source": [
    "trainImages, trainLabels =  loadData(\"data/train-images-idx3-ubyte\", \"data/train-labels-idx1-ubyte\")\n",
    "testImages, testLabels =  loadData(\"data/t10k-images-idx3-ubyte\", \"data/t10k-labels-idx1-ubyte\")\n",
    "\n",
    "# Sanity check\n",
    "assert trainImages.shape == (60000, 28, 28)\n",
    "assert trainLabels.shape == (60000, )\n",
    "\n",
    "assert testImages.shape == (10000, 28, 28)\n",
    "assert testLabels.shape == (10000, )\n",
    "\n",
    "labels = []\n",
    "# plot 9 a random image with matplotlib and its labels for sanity check\n",
    "for i in range(1, 10):\n",
    "    index = np.random.choice(59999)\n",
    "    labels.append(trainLabels[index])\n",
    "    plt.subplot(330 + i)\n",
    "    plt.imshow(trainImages[index], cmap='Greys')\n",
    "print(labels)\n",
    "plt.show()\n"
   ]
  },
  {
   "cell_type": "code",
   "execution_count": 234,
   "metadata": {},
   "outputs": [
    {
     "name": "stdout",
     "output_type": "stream",
     "text": [
      "Number of Trainning examples m_train:  60000\n",
      "Number of test examples m_train:  10000\n",
      "Height and Widht of each image:  28\n",
      "X - trainImages shape:  (60000, 28, 28)\n",
      "Y - trainLabels shape:  (60000,)\n",
      "X - testImages shape:  (10000, 28, 28)\n",
      "Y - testLabels shape:  (10000,)\n"
     ]
    }
   ],
   "source": [
    "# Get familiarized with the number of samples and shapes of the matrices \n",
    "m_train = len(trainImages)\n",
    "m_test = len(testImages)\n",
    "num_px = np.shape(trainImages[0])[0]\n",
    "\n",
    "print(\"Number of Trainning examples m_train: \", m_train)\n",
    "print(\"Number of test examples m_train: \", m_test)\n",
    "print(\"Height and Widht of each image: \", num_px)\n",
    "print(\"X - trainImages shape: \", np.shape(trainImages))\n",
    "print(\"Y - trainLabels shape: \", np.shape(trainLabels))\n",
    "print(\"X - testImages shape: \", np.shape(testImages))\n",
    "print(\"Y - testLabels shape: \", np.shape(testLabels))\n"
   ]
  },
  {
   "cell_type": "code",
   "execution_count": 235,
   "metadata": {},
   "outputs": [
    {
     "name": "stdout",
     "output_type": "stream",
     "text": [
      "trainImagesFlatten shape:  (784, 60000)\n",
      "trainLabelsFlatten shape:  (1, 60000)\n",
      "testImagesFlatten shape:  (784, 10000)\n",
      "testLabelsFlatten shape:  (1, 10000)\n"
     ]
    }
   ],
   "source": [
    "# Reshape the training and test examples\n",
    "trainImagesFlatten = trainImages.reshape(m_train, -1).T\n",
    "trainLabelsFlatten = trainLabels.reshape(1, trainLabels.shape[0])\n",
    "testImagesFlatten = testImages.reshape(m_test, -1).T\n",
    "testLabelsFlatten = testLabels.reshape(1, testLabels.shape[0])\n",
    "\n",
    "print (\"trainImagesFlatten shape: \", trainImagesFlatten.shape)\n",
    "print (\"trainLabelsFlatten shape: \", trainLabelsFlatten.shape)\n",
    "print (\"testImagesFlatten shape: \", testImagesFlatten.shape)\n",
    "print (\"testLabelsFlatten shape: \", testLabelsFlatten.shape)\n",
    "\n",
    "# Standardize the dataset \n",
    "trainImages = trainImagesFlatten / 255\n",
    "testImages = testImagesFlatten / 255\n",
    "trainLabels = trainLabelsFlatten\n",
    "testLabels = testLabelsFlatten"
   ]
  },
  {
   "cell_type": "code",
   "execution_count": 236,
   "metadata": {},
   "outputs": [],
   "source": [
    "def initializeWeightsAndBias(dim):\n",
    "    \"\"\"\n",
    "    This function creates a vector of random values of shape (dim, 1) for w and initializes b to 0.\n",
    "    \n",
    "    Argument:\n",
    "    dim -- size of the w vector - number of parameters\n",
    "    \n",
    "    Returns:\n",
    "    w -- initialized vector of shape (dim, 1)\n",
    "    b -- initialized scalar (corresponds to the bias)\n",
    "    \"\"\"\n",
    "    np.random.seed(None)\n",
    "    w = np.random.randn(dim, 1) * 0.01\n",
    "    b = float(np.squeeze(np.random.randn(1)))\n",
    "    \n",
    "    assert(w.shape == (dim, 1))\n",
    "    assert(isinstance(b, float) or isinstance(b, int))\n",
    "    \n",
    "    return w, b"
   ]
  },
  {
   "cell_type": "code",
   "execution_count": 237,
   "metadata": {},
   "outputs": [],
   "source": [
    "def sigmoid(z):\n",
    "    \"\"\"\n",
    "    Compute the softmax of z\n",
    "\n",
    "    Arguments:\n",
    "    z -- A scalar or numpy array of any size.\n",
    "\n",
    "    Return:\n",
    "    s -- softmax(z)\n",
    "    \"\"\"\n",
    "    return 1/(1 + np.exp(-z))"
   ]
  },
  {
   "cell_type": "code",
   "execution_count": 42,
   "metadata": {},
   "outputs": [],
   "source": [
    "# Sanity check\n",
    "W, b = initializeWeightsAndBias(trainImages.shape[0])\n",
    "assert sigmoid(np.dot(W.T, trainImages) + b).shape == (W.T.shape[0], trainImages.shape[1]) "
   ]
  },
  {
   "cell_type": "code",
   "execution_count": 238,
   "metadata": {},
   "outputs": [],
   "source": [
    "def crossEntropy(A, Y):\n",
    "    \"\"\"\n",
    "    This loss formula is used to compute loss of multiclass data\n",
    "    A -- Computed softmax of the linear transformation on wigth vector and train images vector plus the bias\n",
    "    of size (1, number of examples). \n",
    "    Y -- true \"label\" vector (containing 0, 1, 2 ... 10 ) of size (1, number of examples)\n",
    "    \n",
    "    Return:\n",
    "    Loss -- Cross entropy loss -- - sum of hadamard\n",
    "    \"\"\"\n",
    "    #loss = -np.divide(np.sum(np.multiply(Y, np.log(A, where=(A!=0)))), A.shape[1])\n",
    "    #loss = -np.divide(np.sum(np.multiply(Y, np.log(A))), A.shape[1])\n",
    "    #return loss\n",
    "    return np.divide(np.sum(np.multiply(Y, np.log(A)) + np.multiply(1-Y,  np.log(1-A))), -60000) \n",
    "    "
   ]
  },
  {
   "cell_type": "code",
   "execution_count": 239,
   "metadata": {},
   "outputs": [],
   "source": [
    "def forwardAndBackwardPropagation(w, b, X, Y):\n",
    "    \"\"\"\n",
    "    Arguments:\n",
    "    w -- weights, a numpy array of size (num_px * num_px,  1)\n",
    "    b -- bias, a scalar\n",
    "    X -- training images of size (num_px * num_px, number of examples)\n",
    "    Y -- true \"label\" vector (containing 0, 1, 2 ... 10 ) of size (1, number of examples)\n",
    "\n",
    "    Return:\n",
    "    cost -- negative log-likelihood cost for logistic regression\n",
    "    dw -- gradient of the loss with respect to w, thus same shape as w\n",
    "    db -- gradient of the loss with respect to b, thus same shape as b\n",
    "    \"\"\"\n",
    "    # FORWARD PROPAGATION (FROM X TO COST)\n",
    "    m = X.shape[1]\n",
    "    A = sigmoid(np.dot(w.T, X) + b)\n",
    "    cost = crossEntropy(A, Y)\n",
    "    \n",
    "    # BACKWARD PROPAGATION (TO FIND GRAD)\n",
    "    dw = np.dot(np.divide(X, m), np.subtract(A, Y).T)\n",
    "    db = np.divide(np.sum(np.subtract(A, Y)), m)  \n",
    "\n",
    "    cost = np.squeeze(cost)\n",
    "    #assert(cost.shape == ())\n",
    "    \n",
    "    grads = {\"dw\": dw,\n",
    "             \"db\": db}\n",
    "    \n",
    "    return grads, cost\n",
    "    \n",
    "    \n",
    "    "
   ]
  },
  {
   "cell_type": "code",
   "execution_count": 240,
   "metadata": {},
   "outputs": [],
   "source": [
    "def optimize(w, b, X, Y, num_iterations, learning_rate, print_cost = False):\n",
    "    \"\"\"\n",
    "    This function optimizes w and b by running a gradient descent algorithm\n",
    "    \n",
    "    Arguments:\n",
    "    w -- weights, a numpy array of size (num_px * num_px, 1)\n",
    "    b -- bias, a scalar\n",
    "    X -- data of shape (num_px * num_px, number of examples)\n",
    "    Y -- true \"label\" vector of shape (1, number of examples)\n",
    "    num_iterations -- number of iterations of the optimization loop\n",
    "    learning_rate -- learning rate of the gradient descent update rule\n",
    "    print_cost -- True to print the loss every 100 steps\n",
    "    \n",
    "    Returns:\n",
    "    params -- dictionary containing the weights w and bias b\n",
    "    grads -- dictionary containing the gradients of the weights and bias with respect to the cost function\n",
    "    costs -- list of all the costs computed during the optimization, this will be used to plot the learning curve.\n",
    "    \n",
    "    \"\"\"\n",
    "    \n",
    "    costs = []\n",
    "    \n",
    "    for i in range(num_iterations):\n",
    "        \n",
    "        # Cost and gradient calculation (≈ 1-4 lines of code)\n",
    "        ### START CODE HERE ### \n",
    "        grads, cost = forwardAndBackwardPropagation(w, b, X, Y)\n",
    "        ### END CODE HERE ###\n",
    "        \n",
    "        # Retrieve derivatives from grads\n",
    "        dw = grads[\"dw\"]\n",
    "        db = grads[\"db\"]\n",
    "        \n",
    "        # update rule (≈ 2 lines of code)\n",
    "        ### START CODE HERE ###\n",
    "        w = w - learning_rate * dw\n",
    "        b = b - learning_rate * db\n",
    "        ### END CODE HERE ###\n",
    "        \n",
    "        # Record the costs\n",
    "        if i % 100 == 0:\n",
    "            costs.append(cost)\n",
    "        \n",
    "        # Print the cost every 100 training iterations\n",
    "        if print_cost and i % 100 == 0:\n",
    "            print (\"Cost after iteration %i: %f\" %(i, cost))\n",
    "            \n",
    "    params = {\"w\": w,\n",
    "              \"b\": b}\n",
    "    \n",
    "    grads = {\"dw\": dw,\n",
    "             \"db\": db}\n",
    "    \n",
    "    return params, grads, costs"
   ]
  },
  {
   "cell_type": "code",
   "execution_count": 241,
   "metadata": {},
   "outputs": [],
   "source": [
    "def predict(w, b, X):\n",
    "    '''\n",
    "    Predict whether the label is 0, 1, 2,3 ... 9 or 1 using learned logistic regression parameters (w, b)\n",
    "    \n",
    "    Arguments:\n",
    "    w -- weights, a numpy array of size (num_px * num_px, 1)\n",
    "    b -- bias, a scalar\n",
    "    X -- data of size (num_px * num_px, number of examples)\n",
    "    \n",
    "    Returns:\n",
    "    Y_prediction -- a numpy array (vector) containing all predictions (0,1,..9) for the examples in X\n",
    "    '''\n",
    "    \n",
    "    m = X.shape[1]\n",
    "    Y_prediction = np.zeros((1,m))\n",
    "    w = w.reshape(X.shape[0], 1)\n",
    "    A = sigmoid(np.dot(w.T, X) + b)\n",
    "    \n",
    "    \n",
    "    for i in range(A.shape[1]):\n",
    "        if A[0,i] <= .5:\n",
    "            Y_prediction[0, i] = 0\n",
    "        else:\n",
    "            Y_prediction[0, i] = 1\n",
    "    \n",
    "    assert(Y_prediction.shape == (1, m))\n",
    "    \n",
    "    return Y_prediction"
   ]
  },
  {
   "cell_type": "code",
   "execution_count": 242,
   "metadata": {},
   "outputs": [],
   "source": [
    "def model(X_train, Y_train, X_test, Y_test, num_iterations = 2000, learning_rate = 0.5, print_cost = False):\n",
    "    \"\"\"\n",
    "       \n",
    "    Arguments:\n",
    "    X_train -- training set represented by a numpy array of shape (num_px * num_px * 3, m_train)\n",
    "    Y_train -- training labels represented by a numpy array (vector) of shape (1, m_train)\n",
    "    X_test -- test set represented by a numpy array of shape (num_px * num_px * 3, m_test)\n",
    "    Y_test -- test labels represented by a numpy array (vector) of shape (1, m_test)\n",
    "    num_iterations -- hyperparameter representing the number of iterations to optimize the parameters\n",
    "    learning_rate -- hyperparameter representing the learning rate used in the update rule of optimize()\n",
    "    print_cost -- Set to true to print the cost every 100 iterations\n",
    "    \n",
    "    Returns:\n",
    "    d -- dictionary containing information about the model.\n",
    "    \"\"\"\n",
    "   \n",
    "    w, b = initializeWeightsAndBias(X_train.shape[0])\n",
    "    \n",
    "    parameters, grads, costs = optimize(w, b, X_train, Y_train, num_iterations, learning_rate, print_cost)\n",
    "    \n",
    "    # Retrieve parameters w and b from dictionary \"parameters\"\n",
    "    w = parameters[\"w\"]\n",
    "    b = parameters[\"b\"]\n",
    "    \n",
    "    Y_prediction_test = predict(w, b, X_test)\n",
    "    Y_prediction_train = predict(w, b, X_train)\n",
    "\n",
    "    # Print train/test Errors\n",
    "    print(\"train accuracy: {} %\".format(100 - np.mean(np.abs(Y_prediction_train - Y_train)) * 100))\n",
    "    print(\"test accuracy: {} %\".format(100 - np.mean(np.abs(Y_prediction_test - Y_test)) * 100))\n",
    "\n",
    "    \n",
    "    d = {\"costs\": costs,\n",
    "         \"Y_prediction_test\": Y_prediction_test, \n",
    "         \"Y_prediction_train\" : Y_prediction_train, \n",
    "         \"w\" : w, \n",
    "         \"b\" : b,\n",
    "         \"learning_rate\" : learning_rate,\n",
    "         \"num_iterations\": num_iterations}\n",
    "    \n",
    "    return d"
   ]
  },
  {
   "cell_type": "code",
   "execution_count": 243,
   "metadata": {},
   "outputs": [
    {
     "name": "stdout",
     "output_type": "stream",
     "text": [
      "Digit : 0\n",
      "Cost after iteration 0: 1.134267\n",
      "Cost after iteration 100: 0.080782\n",
      "Cost after iteration 200: 0.064046\n",
      "Cost after iteration 300: 0.056592\n",
      "Cost after iteration 400: 0.052130\n",
      "Cost after iteration 500: 0.049072\n",
      "Cost after iteration 600: 0.046805\n",
      "Cost after iteration 700: 0.045035\n",
      "Cost after iteration 800: 0.043600\n",
      "Cost after iteration 900: 0.042404\n",
      "train accuracy: 98.875 %\n",
      "test accuracy: 99.1 %\n",
      "Digit : 1\n",
      "Cost after iteration 0: 0.418147\n",
      "Cost after iteration 100: 0.068054\n",
      "Cost after iteration 200: 0.053866\n",
      "Cost after iteration 300: 0.048122\n",
      "Cost after iteration 400: 0.044890\n",
      "Cost after iteration 500: 0.042773\n",
      "Cost after iteration 600: 0.041257\n",
      "Cost after iteration 700: 0.040103\n",
      "Cost after iteration 800: 0.039185\n",
      "Cost after iteration 900: 0.038433\n",
      "train accuracy: 98.895 %\n",
      "test accuracy: 99.18 %\n",
      "Digit : 2\n",
      "Cost after iteration 0: 0.452303\n",
      "Cost after iteration 100: 0.125251\n",
      "Cost after iteration 200: 0.106076\n",
      "Cost after iteration 300: 0.097875\n",
      "Cost after iteration 400: 0.093089\n",
      "Cost after iteration 500: 0.089865\n",
      "Cost after iteration 600: 0.087503\n",
      "Cost after iteration 700: 0.085676\n",
      "Cost after iteration 800: 0.084209\n",
      "Cost after iteration 900: 0.082998\n",
      "train accuracy: 97.57333333333334 %\n",
      "test accuracy: 97.78 %\n",
      "Digit : 3\n",
      "Cost after iteration 0: 2.020633\n",
      "Cost after iteration 100: 0.163680\n",
      "Cost after iteration 200: 0.139031\n",
      "Cost after iteration 300: 0.128307\n",
      "Cost after iteration 400: 0.121899\n",
      "Cost after iteration 500: 0.117449\n",
      "Cost after iteration 600: 0.114080\n",
      "Cost after iteration 700: 0.111386\n",
      "Cost after iteration 800: 0.109148\n",
      "Cost after iteration 900: 0.107240\n",
      "train accuracy: 96.76666666666667 %\n",
      "test accuracy: 97.14 %\n",
      "Digit : 4\n",
      "Cost after iteration 0: 0.487634\n",
      "Cost after iteration 100: 0.116287\n",
      "Cost after iteration 200: 0.094649\n",
      "Cost after iteration 300: 0.085127\n",
      "Cost after iteration 400: 0.079553\n",
      "Cost after iteration 500: 0.075828\n",
      "Cost after iteration 600: 0.073133\n",
      "Cost after iteration 700: 0.071077\n",
      "Cost after iteration 800: 0.069447\n",
      "Cost after iteration 900: 0.068117\n",
      "train accuracy: 97.96833333333333 %\n",
      "test accuracy: 97.84 %\n",
      "Digit : 5\n",
      "Cost after iteration 0: 0.551868\n",
      "Cost after iteration 100: 0.163813\n",
      "Cost after iteration 200: 0.140273\n",
      "Cost after iteration 300: 0.129732\n",
      "Cost after iteration 400: 0.123527\n",
      "Cost after iteration 500: 0.119343\n",
      "Cost after iteration 600: 0.116277\n",
      "Cost after iteration 700: 0.113902\n",
      "Cost after iteration 800: 0.111987\n",
      "Cost after iteration 900: 0.110397\n",
      "train accuracy: 96.51666666666667 %\n",
      "test accuracy: 96.66 %\n",
      "Digit : 6\n",
      "Cost after iteration 0: 0.556364\n",
      "Cost after iteration 100: 0.089454\n",
      "Cost after iteration 200: 0.071314\n",
      "Cost after iteration 300: 0.063903\n",
      "Cost after iteration 400: 0.059687\n",
      "Cost after iteration 500: 0.056902\n",
      "Cost after iteration 600: 0.054896\n",
      "Cost after iteration 700: 0.053368\n",
      "Cost after iteration 800: 0.052156\n",
      "Cost after iteration 900: 0.051164\n",
      "train accuracy: 98.495 %\n",
      "test accuracy: 98.28 %\n",
      "Digit : 7\n",
      "Cost after iteration 0: 0.731461\n",
      "Cost after iteration 100: 0.094966\n",
      "Cost after iteration 200: 0.078689\n",
      "Cost after iteration 300: 0.071966\n",
      "Cost after iteration 400: 0.068081\n",
      "Cost after iteration 500: 0.065470\n",
      "Cost after iteration 600: 0.063559\n",
      "Cost after iteration 700: 0.062084\n",
      "Cost after iteration 800: 0.060900\n",
      "Cost after iteration 900: 0.059925\n",
      "train accuracy: 98.185 %\n",
      "test accuracy: 98.29 %\n",
      "Digit : 8\n",
      "Cost after iteration 0: 0.625082\n",
      "Cost after iteration 100: 0.206212\n",
      "Cost after iteration 200: 0.182629\n",
      "Cost after iteration 300: 0.171411\n",
      "Cost after iteration 400: 0.164213\n",
      "Cost after iteration 500: 0.158928\n",
      "Cost after iteration 600: 0.154753\n",
      "Cost after iteration 700: 0.151306\n",
      "Cost after iteration 800: 0.148380\n",
      "Cost after iteration 900: 0.145849\n",
      "train accuracy: 95.36833333333334 %\n",
      "test accuracy: 95.32 %\n",
      "Digit : 9\n",
      "Cost after iteration 0: 0.602018\n",
      "Cost after iteration 100: 0.173725\n",
      "Cost after iteration 200: 0.150500\n",
      "Cost after iteration 300: 0.139679\n",
      "Cost after iteration 400: 0.133229\n",
      "Cost after iteration 500: 0.128865\n",
      "Cost after iteration 600: 0.125669\n",
      "Cost after iteration 700: 0.123201\n",
      "Cost after iteration 800: 0.121220\n",
      "Cost after iteration 900: 0.119582\n",
      "train accuracy: 95.95333333333333 %\n",
      "test accuracy: 96.08 %\n",
      "6698.526470422745\n"
     ]
    }
   ],
   "source": [
    "numOfClasses = np.max(trainLabels)+1\n",
    "modelInfoList = []\n",
    "import time\n",
    "tic = time.time()\n",
    "for i in range(numOfClasses):\n",
    "    print(\"Digit : \" + str(i))\n",
    "    trainLabelsCopy = np.copy(trainLabels)\n",
    "    testLabelsCopy = np.copy(testLabels)\n",
    "    trainLabelsCopy = (trainLabelsCopy == i).astype(int)\n",
    "    testLabelsCopy = (testLabelsCopy == i).astype(int)\n",
    "    d = model(trainImages, trainLabelsCopy, testImages, testLabelsCopy, num_iterations = 1000, learning_rate = 0.125, print_cost = True)\n",
    "    modelInfoList.append(d)\n",
    "\n",
    "toc = time.time()\n",
    "print(toc - tic)"
   ]
  },
  {
   "cell_type": "code",
   "execution_count": 245,
   "metadata": {},
   "outputs": [
    {
     "name": "stdout",
     "output_type": "stream",
     "text": [
      "Number:  3\n",
      "Probability: \n",
      "61.01983992352154 %\n",
      "Predicted: \n",
      "100.0 %\n",
      "Number:  6\n",
      "Probability: \n",
      "26.50390892311057 %\n",
      "Predicted: \n",
      "100.0 %\n",
      "Number:  6\n",
      "Probability: \n",
      "25.829342132942894 %\n",
      "Predicted: \n",
      "100.0 %\n",
      "Number:  1\n",
      "Probability: \n",
      "23.171942607543375 %\n",
      "Predicted: \n",
      "100.0 %\n",
      "Number:  5\n",
      "Probability: \n",
      "36.362920091007645 %\n",
      "Predicted: \n",
      "0.0 %\n",
      "Number:  9\n",
      "Probability: \n",
      "22.18039862795153 %\n",
      "Predicted: \n",
      "100.0 %\n",
      "Number:  7\n",
      "Probability: \n",
      "42.35594746448978 %\n",
      "Predicted: \n",
      "0.0 %\n",
      "Number:  0\n",
      "Probability: \n",
      "52.173681064698926 %\n",
      "Predicted: \n",
      "100.0 %\n",
      "Number:  2\n",
      "Probability: \n",
      "17.816427709631455 %\n",
      "Predicted: \n",
      "100.0 %\n"
     ]
    },
    {
     "data": {
      "image/png": "[encoded data removed]",
      "text/plain": [
       "<Figure size 432x288 with 9 Axes>"
      ]
     },
     "metadata": {
      "needs_background": "light"
     },
     "output_type": "display_data"
    }
   ],
   "source": [
    "for i in range(1, 10):\n",
    "    index = np.random.choice(testLabels.shape[1])\n",
    "    n = testLabels[0, index]\n",
    "    w = modelInfoList[n]['w']\n",
    "    b = modelInfoList[n]['b']\n",
    "    X = testImages[:, [index]]\n",
    "    p = predict(w, b, X)\n",
    "    print(\"Number: \", testLabels[0, index])\n",
    "    print(\"Probability: \")\n",
    "    print(np.squeeze(sigmoid(np.dot(W.T, X) + b)) * 100, \"%\")\n",
    "    print(\"Predicted: \")\n",
    "    print(np.squeeze(p)*100, \"%\")\n",
    "    plt.subplot(330 + i)\n",
    "    plt.imshow(X.reshape(28,28))\n"
   ]
  },
  {
   "cell_type": "code",
   "execution_count": 246,
   "metadata": {},
   "outputs": [
    {
     "name": "stdout",
     "output_type": "stream",
     "text": [
      "Number:  0\n",
      "[1.1342671  0.0807824  0.06404632 0.05659171 0.0521297  0.04907243\n",
      " 0.04680547 0.04503479 0.04359981 0.04240444]\n"
     ]
    },
    {
     "data": {
      "image/png": "[encoded data removed]",
      "text/plain": [
       "<Figure size 432x288 with 1 Axes>"
      ]
     },
     "metadata": {
      "needs_background": "light"
     },
     "output_type": "display_data"
    },
    {
     "name": "stdout",
     "output_type": "stream",
     "text": [
      "Number:  1\n",
      "[0.41814741 0.06805411 0.05386603 0.04812225 0.04488992 0.04277331\n",
      " 0.04125671 0.04010255 0.03918545 0.03843273]\n"
     ]
    },
    {
     "data": {
      "image/png": "[encoded data removed]",
      "text/plain": [
       "<Figure size 432x288 with 1 Axes>"
      ]
     },
     "metadata": {
      "needs_background": "light"
     },
     "output_type": "display_data"
    },
    {
     "name": "stdout",
     "output_type": "stream",
     "text": [
      "Number:  2\n",
      "[0.45230251 0.12525104 0.10607581 0.09787467 0.0930893  0.08986466\n",
      " 0.0875026  0.08567608 0.0842092  0.08299785]\n"
     ]
    },
    {
     "data": {
      "image/png": "[encoded data removed]",
      "text/plain": [
       "<Figure size 432x288 with 1 Axes>"
      ]
     },
     "metadata": {
      "needs_background": "light"
     },
     "output_type": "display_data"
    },
    {
     "name": "stdout",
     "output_type": "stream",
     "text": [
      "Number:  3\n",
      "[2.02063321 0.16368039 0.13903054 0.12830748 0.12189895 0.11744911\n",
      " 0.11408028 0.11138557 0.109148   0.10723984]\n"
     ]
    },
    {
     "data": {
      "image/png": "[encoded data removed]",
      "text/plain": [
       "<Figure size 432x288 with 1 Axes>"
      ]
     },
     "metadata": {
      "needs_background": "light"
     },
     "output_type": "display_data"
    },
    {
     "name": "stdout",
     "output_type": "stream",
     "text": [
      "Number:  4\n",
      "[0.48763449 0.11628736 0.09464865 0.08512651 0.07955348 0.07582804\n",
      " 0.07313301 0.07107715 0.06944744 0.06811718]\n"
     ]
    },
    {
     "data": {
      "image/png": "[encoded data removed]",
      "text/plain": [
       "<Figure size 432x288 with 1 Axes>"
      ]
     },
     "metadata": {
      "needs_background": "light"
     },
     "output_type": "display_data"
    },
    {
     "name": "stdout",
     "output_type": "stream",
     "text": [
      "Number:  5\n",
      "[0.55186814 0.16381276 0.14027279 0.12973205 0.12352741 0.11934269\n",
      " 0.11627675 0.11390179 0.11198725 0.11039718]\n"
     ]
    },
    {
     "data": {
      "image/png": "[encoded data removed]",
      "text/plain": [
       "<Figure size 432x288 with 1 Axes>"
      ]
     },
     "metadata": {
      "needs_background": "light"
     },
     "output_type": "display_data"
    },
    {
     "name": "stdout",
     "output_type": "stream",
     "text": [
      "Number:  6\n",
      "[0.55636408 0.08945415 0.07131386 0.0639032  0.0596867  0.05690168\n",
      " 0.0548965  0.05336844 0.05215585 0.05116378]\n"
     ]
    },
    {
     "data": {
      "image/png": "[encoded data removed]",
      "text/plain": [
       "<Figure size 432x288 with 1 Axes>"
      ]
     },
     "metadata": {
      "needs_background": "light"
     },
     "output_type": "display_data"
    },
    {
     "name": "stdout",
     "output_type": "stream",
     "text": [
      "Number:  7\n",
      "[0.73146073 0.0949661  0.07868874 0.07196637 0.06808061 0.06546953\n",
      " 0.06355927 0.06208376 0.0609004  0.0599248 ]\n"
     ]
    },
    {
     "data": {
      "image/png": "[encoded data removed]",
      "text/plain": [
       "<Figure size 432x288 with 1 Axes>"
      ]
     },
     "metadata": {
      "needs_background": "light"
     },
     "output_type": "display_data"
    },
    {
     "name": "stdout",
     "output_type": "stream",
     "text": [
      "Number:  8\n",
      "[0.62508212 0.20621178 0.18262886 0.17141065 0.16421331 0.15892824\n",
      " 0.15475264 0.1513062  0.14838047 0.14584853]\n"
     ]
    },
    {
     "data": {
      "image/png": "[encoded data removed]",
      "text/plain": [
       "<Figure size 432x288 with 1 Axes>"
      ]
     },
     "metadata": {
      "needs_background": "light"
     },
     "output_type": "display_data"
    },
    {
     "name": "stdout",
     "output_type": "stream",
     "text": [
      "Number:  9\n",
      "[0.60201804 0.17372535 0.15050011 0.13967866 0.13322946 0.12886495\n",
      " 0.12566938 0.12320112 0.12121955 0.11958179]\n"
     ]
    },
    {
     "data": {
      "image/png": "[encoded data removed]",
      "text/plain": [
       "<Figure size 432x288 with 1 Axes>"
      ]
     },
     "metadata": {
      "needs_background": "light"
     },
     "output_type": "display_data"
    }
   ],
   "source": [
    "for i in range(0, 10):\n",
    "    print(\"Number: \", i)\n",
    "    costs = np.squeeze(modelInfoList[i]['costs'])\n",
    "    print(costs)\n",
    "    plt.plot(costs)\n",
    "    plt.ylabel('cost')\n",
    "    plt.xlabel('iterations (per hundreds)')\n",
    "    plt.title(\"Learning rate =\" + str(d[\"learning_rate\"]))\n",
    "\n",
    "    plt.show()"
   ]
  },
  {
   "cell_type": "code",
   "execution_count": 247,
   "metadata": {},
   "outputs": [
    {
     "name": "stdout",
     "output_type": "stream",
     "text": [
      "8278.0\n"
     ]
    }
   ],
   "source": [
    "count = 0\n",
    "for i in range(10000):\n",
    "    index = np.random.choice(testLabels.shape[1])\n",
    "    n = testLabels[0, index]\n",
    "    w = modelInfoList[n]['w']\n",
    "    b = modelInfoList[n]['b']\n",
    "    X = testImages[:, [index]]\n",
    "    p = predict(w, b, X)\n",
    "    count += np.squeeze(p)\n",
    "print(count)"
   ]
  }
 ],
 "metadata": {
  "kernelspec": {
   "display_name": "Python 3",
   "language": "python",
   "name": "python3"
  },
  "language_info": {
   "codemirror_mode": {
    "name": "ipython",
    "version": 3
   },
   "file_extension": ".py",
   "mimetype": "text/x-python",
   "name": "python",
   "nbconvert_exporter": "python",
   "pygments_lexer": "ipython3",
   "version": "3.6.7"
  }
 },
 "nbformat": 4,
 "nbformat_minor": 2
}
